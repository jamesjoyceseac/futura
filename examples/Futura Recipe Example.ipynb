{
 "cells": [
  {
   "cell_type": "markdown",
   "metadata": {},
   "source": [
    "# Futura\n",
    "## Example 1. Loading a pre-written recipe\n",
    "\n",
    "Futura allows you to create customised versions of the ecoinvent database in a simple and transparent manner\n",
    "\n",
    "In this example, you will load a recipe (written as a .yml file) and use it to create a new version of the ecoinvent database\n",
    "\n",
    "The new version has the following arbitrary assumptions:\n",
    " - CCS has been invented\n",
    " - 50% of UK coal power is now post combustion CCS\n",
    " - 50% of German lignite power is now post combustion CCS"
   ]
  },
  {
   "cell_type": "markdown",
   "metadata": {},
   "source": [
    "### Setup\n",
    "\n",
    "In order to run this notebook you will need:\n",
    "    - Futura installed on your machine\n",
    "    - Wurst and Brightway2 installed on your machine (if they didn't automatically install as requirements for Futura)\n",
    "    - A copy of 'example.yml' saved in the same folder as this notebook\n",
    "    - A brightway2 project with a version of ecoinvent 3 as a database\n",
    "    \n",
    "You should open 'example.yml' in a text editor and change the lines at the top that look like this:\n",
    "```\n",
    "{% set base_project = \"Prospective_LCA_1\" %}\n",
    "{% set base_database = \"ecoinvent\" %}\n",
    "```\n",
    "to point towards your brightway project and base version of ecoinvent 3\n",
    "\n",
    "You can also edit the following line\n",
    "```\n",
    "{% set output_database = \"ecoinvent_plus_CCS\" %}\n",
    "```\n",
    "to give the database you will create a different name"
   ]
  },
  {
   "cell_type": "markdown",
   "metadata": {},
   "source": [
    "### Step 1. Import the FuturaLoader class\n",
    "Futura has a number of helpful classes, but for this example we will use the FuturaLoader, which loads recipes in order to create databases\n",
    "\n",
    "*Note - you may get a warning saying Futura is using a monkeypatched version of Wurst - this is because Futura uses slightly tweaked versions of functions written for the excellent Wurst library - these will be submitted as a pull request in due course*"
   ]
  },
  {
   "cell_type": "code",
   "execution_count": 1,
   "metadata": {},
   "outputs": [
    {
     "name": "stderr",
     "output_type": "stream",
     "text": [
      "futura      : WARNING  Futura is using a monkeypatched version of Wurst\n"
     ]
    }
   ],
   "source": [
    "from futura.recipe_parser import FuturaLoader"
   ]
  },
  {
   "cell_type": "markdown",
   "metadata": {},
   "source": [
    "### Step 2. Load a recipe into the FuturaLoader\n",
    "We initialise the FuturaLoader with a recipe file. This is a plain text file written in YAML with optional templating via Jinja2.\n",
    "\n",
    "These files are designed to be human readable and (technically) human writable, although as the futura project progresses and recipes become more complex they will be written by a GUI (in development).\n",
    "\n",
    "There are (currently) four sections:\n",
    "- metadata\n",
    "    - provides infromation about the recipe file\n",
    "- load\n",
    "    - tells futura how to load the database(s) it needs to build the new version of ecoinvent\n",
    "- technology\n",
    "    - tells futura if and how to add, and regionalise new technologies to the database\n",
    "- markets\n",
    "    - tells futura how to alter markets within the new database, including adding producers, changing production volumes etc.\n",
    "\n",
    "The recipe we are using here looks like this:\n",
    "\n",
    "```\n",
    "{% set base_project = \"Prospective_LCA_1\" %}\n",
    "{% set base_database = \"ecoinvent\" %}\n",
    "{% set output_database = \"ecoinvent_plus_CCS\" %}\n",
    "\n",
    "metadata:\n",
    "    base_project: {{base_project}}\n",
    "    base_database: {{base_database}}\n",
    "    output_database: {{output_database}}\n",
    "    description: >\n",
    "        This Futura recipe loads the ecoinvent 3.3 database, adds Carma CCS projects,\n",
    "        then alters the British and German high voltage electricity markets to shift\n",
    "        50% of coal and lignite produced electricity to CCS respectively\n",
    "load:\n",
    "    - extract_bw2_database:\n",
    "        project_name: {{base_project}}\n",
    "        database_names:\n",
    "            - {{base_database}}\n",
    "            \n",
    "technology:\n",
    "    - add_technology_to_database:\n",
    "        technology_file: __ASSET_PATH__/lci-Carma-CCS-base-GLO2.xlsx\n",
    "        funcs:\n",
    "            - fix_ch_only_processes\n",
    "            - add_hard_coal_ccs\n",
    "            - add_lignite_ccs\n",
    "\n",
    "markets:\n",
    "    - alter_market:\n",
    "        market_filter: [{'filter': 'equals', 'args': ['unit', 'kilowatt hour']},\n",
    "                        {'filter': 'startswith', 'args': ['name', 'market']},\n",
    "                        {'filter': 'contains', 'args': ['name', 'high']},\n",
    "                        {'filter': 'equals', 'args': ['location', 'GB']}]\n",
    "        tasks:\n",
    "            - function: add_alternative_exchanges\n",
    "              args: []\n",
    "            - function: transfer_pv\n",
    "              args:\n",
    "                  - electricity production, hard coal\n",
    "                  - Electricity, at power plant/hard coal, post, pipeline 200km, storage 1000m/2025\n",
    "              kwargs:\n",
    "                  factor: 0.5\n",
    "            - function: relink\n",
    "              args: []\n",
    "\n",
    "    - alter_market:\n",
    "          market_filter: [{'filter': 'equals', 'args': ['unit', 'kilowatt hour']},\n",
    "                          {'filter': 'startswith', 'args': ['name', 'market']},\n",
    "                          {'filter': 'contains', 'args': ['name', 'high']},\n",
    "                          {'filter': 'equals', 'args': ['location', 'DE']}]\n",
    "          tasks:\n",
    "              - function: add_alternative_exchanges\n",
    "                args: []\n",
    "              - function: transfer_pv\n",
    "                args:\n",
    "                    - electricity production, lignite\n",
    "                    - Electricity, at power plant/lignite, post, pipeline 200km, storage 1000m/2025\n",
    "                kwargs:\n",
    "                    factor: 0.5\n",
    "              - function: relink\n",
    "                args: []\n",
    "\n",
    "```\n",
    "\n",
    "By default, FuturaLoader will run the recipe it has been given on initialisation, you can turn this behaviour off using `autocreate=False`.\n",
    "Here we have switched it off so we can look at the parsed version of the recipe before we run it."
   ]
  },
  {
   "cell_type": "code",
   "execution_count": 2,
   "metadata": {},
   "outputs": [],
   "source": [
    "f = FuturaLoader('example.yml', autocreate=False)"
   ]
  },
  {
   "cell_type": "code",
   "execution_count": 3,
   "metadata": {},
   "outputs": [
    {
     "data": {
      "text/plain": [
       "{'metadata': {'base_project': 'Prospective_LCA_1',\n",
       "  'base_database': 'ecoinvent',\n",
       "  'output_database': 'ecoinvent_plus_CCS',\n",
       "  'description': 'This Futura recipe loads the ecoinvent 3.3 database, adds Carma CCS projects, then alters the British and German high voltage electricity markets to shift 50% of coal and lignite produced electricity to CCS respectively\\n'},\n",
       " 'load': [{'extract_bw2_database': {'project_name': 'Prospective_LCA_1',\n",
       "    'database_names': ['ecoinvent']}}],\n",
       " 'technology': [{'add_technology_to_database': {'technology_file': '__ASSET_PATH__/lci-Carma-CCS-base-GLO2.xlsx',\n",
       "    'funcs': ['fix_ch_only_processes',\n",
       "     'add_hard_coal_ccs',\n",
       "     'add_lignite_ccs']}}],\n",
       " 'markets': [{'alter_market': {'market_filter': [{'filter': 'equals',\n",
       "      'args': ['unit', 'kilowatt hour']},\n",
       "     {'filter': 'startswith', 'args': ['name', 'market']},\n",
       "     {'filter': 'contains', 'args': ['name', 'high']},\n",
       "     {'filter': 'equals', 'args': ['location', 'GB']}],\n",
       "    'tasks': [{'function': 'add_alternative_exchanges', 'args': []},\n",
       "     {'function': 'transfer_pv',\n",
       "      'args': ['electricity production, hard coal',\n",
       "       'Electricity, at power plant/hard coal, post, pipeline 200km, storage 1000m/2025'],\n",
       "      'kwargs': {'factor': 0.5}},\n",
       "     {'function': 'relink', 'args': []}]}},\n",
       "  {'alter_market': {'market_filter': [{'filter': 'equals',\n",
       "      'args': ['unit', 'kilowatt hour']},\n",
       "     {'filter': 'startswith', 'args': ['name', 'market']},\n",
       "     {'filter': 'contains', 'args': ['name', 'high']},\n",
       "     {'filter': 'equals', 'args': ['location', 'DE']}],\n",
       "    'tasks': [{'function': 'add_alternative_exchanges', 'args': []},\n",
       "     {'function': 'transfer_pv',\n",
       "      'args': ['electricity production, lignite',\n",
       "       'Electricity, at power plant/lignite, post, pipeline 200km, storage 1000m/2025'],\n",
       "      'kwargs': {'factor': 0.5}},\n",
       "     {'function': 'relink', 'args': []}]}}]}"
      ]
     },
     "execution_count": 3,
     "metadata": {},
     "output_type": "execute_result"
    }
   ],
   "source": [
    "f.recipe"
   ]
  },
  {
   "cell_type": "markdown",
   "metadata": {},
   "source": [
    "### Step 3. Run the recipe\n",
    "Ok, now we can run the recipe. This will take a few minutes, but you'll get progress updates as we go"
   ]
  },
  {
   "cell_type": "code",
   "execution_count": 4,
   "metadata": {},
   "outputs": [
    {
     "name": "stdout",
     "output_type": "stream",
     "text": [
      "Getting activity data\n"
     ]
    },
    {
     "name": "stderr",
     "output_type": "stream",
     "text": [
      "100%|█████████████████████████████████████████████████████████████████████████| 13831/13831 [00:00<00:00, 48540.16it/s]\n",
      "  0%|                                                                                       | 0/501148 [00:00<?, ?it/s]"
     ]
    },
    {
     "name": "stdout",
     "output_type": "stream",
     "text": [
      "Adding exchange data to activities\n"
     ]
    },
    {
     "name": "stderr",
     "output_type": "stream",
     "text": [
      "100%|███████████████████████████████████████████████████████████████████████| 501148/501148 [00:32<00:00, 15209.89it/s]\n"
     ]
    },
    {
     "name": "stdout",
     "output_type": "stream",
     "text": [
      "Filling out exchange data\n"
     ]
    },
    {
     "name": "stderr",
     "output_type": "stream",
     "text": [
      "100%|██████████████████████████████████████████████████████████████████████████| 13831/13831 [00:03<00:00, 4427.51it/s]\n"
     ]
    },
    {
     "name": "stdout",
     "output_type": "stream",
     "text": [
      "Extracted 1 worksheets in 0.35 seconds\n",
      "Applying strategy: link_iterable_by_fields\n",
      "72 datasets\n",
      "1398 exchanges\n",
      "0 unlinked exchanges\n",
      "  \n",
      "Location data added to 0 activities\n",
      "Location data added to 0 exchanges\n",
      "Product data added to 785 exchanges\n",
      "Default (zero) production volume data added to 72 production exchanges\n"
     ]
    },
    {
     "name": "stderr",
     "output_type": "stream",
     "text": [
      "  6%|████▉                                                                              | 1/17 [00:00<00:02,  5.44it/s]"
     ]
    },
    {
     "name": "stdout",
     "output_type": "stream",
     "text": [
      "Creating regionalised versions of hard coal CCS activities...\n"
     ]
    },
    {
     "name": "stderr",
     "output_type": "stream",
     "text": [
      "100%|██████████████████████████████████████████████████████████████████████████████████| 17/17 [00:03<00:00,  4.56it/s]\n",
      "  0%|▏                                                                                | 2/1292 [00:00<01:56, 11.10it/s]"
     ]
    },
    {
     "name": "stdout",
     "output_type": "stream",
     "text": [
      "Relinking regionalised versions of hard coal CCS activities...\n"
     ]
    },
    {
     "name": "stderr",
     "output_type": "stream",
     "text": [
      "100%|██████████████████████████████████████████████████████████████████████████████| 1292/1292 [02:36<00:00,  8.25it/s]\n",
      " 12%|██████████▍                                                                        | 2/16 [00:00<00:01, 10.57it/s]"
     ]
    },
    {
     "name": "stdout",
     "output_type": "stream",
     "text": [
      "Creating regionalised versions of lignite CCS activities...\n"
     ]
    },
    {
     "name": "stderr",
     "output_type": "stream",
     "text": [
      "100%|██████████████████████████████████████████████████████████████████████████████████| 16/16 [00:01<00:00,  9.54it/s]\n",
      "  0%|▎                                                                                 | 2/608 [00:00<00:51, 11.79it/s]"
     ]
    },
    {
     "name": "stdout",
     "output_type": "stream",
     "text": [
      "Relinking regionalised versions of lignite CCS activities...\n"
     ]
    },
    {
     "name": "stderr",
     "output_type": "stream",
     "text": [
      "100%|████████████████████████████████████████████████████████████████████████████████| 608/608 [01:10<00:00,  8.63it/s]\n"
     ]
    },
    {
     "name": "stdout",
     "output_type": "stream",
     "text": [
      "Applying add_alternative_exchanges\n",
      "Applying transfer_pv with arguments electricity production, hard coal, Electricity, at power plant/hard coal, post, pipeline 200km, storage 1000m/2025 and keyword arguments factor:0.5\n",
      "Applying relink\n",
      "Applying add_alternative_exchanges\n",
      "Applying transfer_pv with arguments electricity production, lignite, Electricity, at power plant/lignite, post, pipeline 200km, storage 1000m/2025 and keyword arguments factor:0.5\n",
      "Applying relink\n"
     ]
    }
   ],
   "source": [
    "f.run()"
   ]
  },
  {
   "cell_type": "markdown",
   "metadata": {},
   "source": [
    "### Step 4. See what we've done\n",
    "We'll import another couple of things from Futura, as well as Wurst, to see what our recipe has done"
   ]
  },
  {
   "cell_type": "code",
   "execution_count": 5,
   "metadata": {},
   "outputs": [],
   "source": [
    "from futura.utils import create_filter_from_description\n",
    "from futura.markets import FuturaMarket\n",
    "import wurst as w"
   ]
  },
  {
   "cell_type": "markdown",
   "metadata": {},
   "source": [
    "First we create a filter to find our altered markets for high voltage electricity in the UK and Germany\n",
    "\n",
    "These are written as plain python descriptions and converted to wurst filters using a utility function from Futura. There's no real reason to do it this way, we could have written wurst filters directly. It's just to show how the filter descriptions in the recipe file are parsed within Futura."
   ]
  },
  {
   "cell_type": "code",
   "execution_count": 6,
   "metadata": {},
   "outputs": [],
   "source": [
    "filter_base = [{'filter': 'equals','args': ['unit', 'kilowatt hour']},\n",
    "               {'filter': 'startswith', 'args': ['name', 'market']},\n",
    "               {'filter': 'contains', 'args': ['name', 'high']},]\n",
    "\n",
    "filter_gb = filter_base + [{'filter': 'equals', 'args': ['location', 'GB']}]\n",
    "filter_de = filter_base + [{'filter': 'equals', 'args': ['location', 'DE']}]\n",
    "\n",
    "filter_gb_w = create_filter_from_description(filter_gb)\n",
    "filter_de_w = create_filter_from_description(filter_de)"
   ]
  },
  {
   "cell_type": "markdown",
   "metadata": {},
   "source": [
    "Now we use wurst's `get_one` function to get a process from our new database, then feed it to a FuturaMarket class - a useful class for inspecting and making edits to markets in Futura"
   ]
  },
  {
   "cell_type": "code",
   "execution_count": 7,
   "metadata": {},
   "outputs": [],
   "source": [
    "gb = w.get_one(f.database.db, *filter_gb_w)\n",
    "gb_fm = FuturaMarket(gb, f.database)"
   ]
  },
  {
   "cell_type": "code",
   "execution_count": 8,
   "metadata": {},
   "outputs": [
    {
     "data": {
      "text/plain": [
       "<matplotlib.axes._subplots.AxesSubplot at 0x1d3fe349788>"
      ]
     },
     "execution_count": 8,
     "metadata": {},
     "output_type": "execute_result"
    },
    {
     "data": {
      "image/png": "[encoded data removed]",
      "text/plain": [
       "<Figure size 432x288 with 1 Axes>"
      ]
     },
     "metadata": {},
     "output_type": "display_data"
    }
   ],
   "source": [
    "gb_fm.plot"
   ]
  },
  {
   "cell_type": "markdown",
   "metadata": {},
   "source": [
    "We can see that we've successfully added post combustion Coal CCS as a major technology in the UK electricity market\n",
    "\n",
    "Let's check Germany now"
   ]
  },
  {
   "cell_type": "code",
   "execution_count": 9,
   "metadata": {},
   "outputs": [],
   "source": [
    "de = w.get_one(f.database.db, *filter_de_w)\n",
    "de_fm = FuturaMarket(de, f.database)"
   ]
  },
  {
   "cell_type": "code",
   "execution_count": 10,
   "metadata": {},
   "outputs": [
    {
     "data": {
      "text/plain": [
       "<matplotlib.axes._subplots.AxesSubplot at 0x1d3fe143d48>"
      ]
     },
     "execution_count": 10,
     "metadata": {},
     "output_type": "execute_result"
    },
    {
     "data": {
      "image/png": "[encoded data removed]",
      "text/plain": [
       "<Figure size 432x288 with 1 Axes>"
      ]
     },
     "metadata": {},
     "output_type": "display_data"
    }
   ],
   "source": [
    "de_fm.plot"
   ]
  },
  {
   "cell_type": "markdown",
   "metadata": {},
   "source": [
    "Same here - lignite CCS this time has been added to the grid mix for Germany. We can also see a percentage breakdown:"
   ]
  },
  {
   "cell_type": "code",
   "execution_count": 11,
   "metadata": {},
   "outputs": [
    {
     "data": {
      "text/html": [
       "<div>\n",
       "<style scoped>\n",
       "    .dataframe tbody tr th:only-of-type {\n",
       "        vertical-align: middle;\n",
       "    }\n",
       "\n",
       "    .dataframe tbody tr th {\n",
       "        vertical-align: top;\n",
       "    }\n",
       "\n",
       "    .dataframe thead th {\n",
       "        text-align: right;\n",
       "    }\n",
       "</style>\n",
       "<table border=\"1\" class=\"dataframe\">\n",
       "  <thead>\n",
       "    <tr style=\"text-align: right;\">\n",
       "      <th></th>\n",
       "      <th>percentage</th>\n",
       "    </tr>\n",
       "    <tr>\n",
       "      <th>item</th>\n",
       "      <th></th>\n",
       "    </tr>\n",
       "  </thead>\n",
       "  <tbody>\n",
       "    <tr>\n",
       "      <th>electricity production, hard coal</th>\n",
       "      <td>0.1573</td>\n",
       "    </tr>\n",
       "    <tr>\n",
       "      <th>electricity production, nuclear, pressure water reactor</th>\n",
       "      <td>0.1226</td>\n",
       "    </tr>\n",
       "    <tr>\n",
       "      <th>electricity production, lignite</th>\n",
       "      <td>0.1196</td>\n",
       "    </tr>\n",
       "    <tr>\n",
       "      <th>Electricity, at power plant/lignite, post, pipeline 200km, storage 1000m/2025</th>\n",
       "      <td>0.1196</td>\n",
       "    </tr>\n",
       "    <tr>\n",
       "      <th>heat and power co-generation, natural gas, conventional power plant, 100MW electrical</th>\n",
       "      <td>0.0827</td>\n",
       "    </tr>\n",
       "    <tr>\n",
       "      <th>electricity production, wind, 1-3MW turbine, onshore</th>\n",
       "      <td>0.0629</td>\n",
       "    </tr>\n",
       "    <tr>\n",
       "      <th>heat and power co-generation, biogas, gas engine</th>\n",
       "      <td>0.0460</td>\n",
       "    </tr>\n",
       "    <tr>\n",
       "      <th>electricity production, nuclear, boiling water reactor</th>\n",
       "      <td>0.0332</td>\n",
       "    </tr>\n",
       "    <tr>\n",
       "      <th>electricity production, hydro, run-of-river</th>\n",
       "      <td>0.0294</td>\n",
       "    </tr>\n",
       "    <tr>\n",
       "      <th>heat and power co-generation, hard coal</th>\n",
       "      <td>0.0231</td>\n",
       "    </tr>\n",
       "    <tr>\n",
       "      <th>electricity, high voltage, import from FR</th>\n",
       "      <td>0.0225</td>\n",
       "    </tr>\n",
       "    <tr>\n",
       "      <th>electricity production, natural gas, combined cycle power plant</th>\n",
       "      <td>0.0224</td>\n",
       "    </tr>\n",
       "    <tr>\n",
       "      <th>heat and power co-generation, wood chips, 6667 kW, state-of-the-art 2014</th>\n",
       "      <td>0.0201</td>\n",
       "    </tr>\n",
       "    <tr>\n",
       "      <th>electricity, high voltage, import from DK</th>\n",
       "      <td>0.0141</td>\n",
       "    </tr>\n",
       "    <tr>\n",
       "      <th>electricity production, natural gas, conventional power plant</th>\n",
       "      <td>0.0138</td>\n",
       "    </tr>\n",
       "    <tr>\n",
       "      <th>electricity, high voltage, import from CZ</th>\n",
       "      <td>0.0125</td>\n",
       "    </tr>\n",
       "    <tr>\n",
       "      <th>treatment of blast furnace gas, in power plant</th>\n",
       "      <td>0.0125</td>\n",
       "    </tr>\n",
       "    <tr>\n",
       "      <th>electricity production, wind, &lt;1MW turbine, onshore</th>\n",
       "      <td>0.0115</td>\n",
       "    </tr>\n",
       "    <tr>\n",
       "      <th>electricity production, hydro, pumped storage</th>\n",
       "      <td>0.0110</td>\n",
       "    </tr>\n",
       "    <tr>\n",
       "      <th>heat and power co-generation, lignite</th>\n",
       "      <td>0.0099</td>\n",
       "    </tr>\n",
       "    <tr>\n",
       "      <th>electricity, high voltage, import from CH</th>\n",
       "      <td>0.0075</td>\n",
       "    </tr>\n",
       "    <tr>\n",
       "      <th>electricity production, oil</th>\n",
       "      <td>0.0073</td>\n",
       "    </tr>\n",
       "    <tr>\n",
       "      <th>electricity production, wind, &gt;3MW turbine, onshore</th>\n",
       "      <td>0.0069</td>\n",
       "    </tr>\n",
       "    <tr>\n",
       "      <th>electricity, high voltage, import from AT</th>\n",
       "      <td>0.0069</td>\n",
       "    </tr>\n",
       "    <tr>\n",
       "      <th>electricity production, hydro, reservoir, non-alpine region</th>\n",
       "      <td>0.0056</td>\n",
       "    </tr>\n",
       "    <tr>\n",
       "      <th>electricity, high voltage, import from SE</th>\n",
       "      <td>0.0049</td>\n",
       "    </tr>\n",
       "    <tr>\n",
       "      <th>heat and power co-generation, oil</th>\n",
       "      <td>0.0045</td>\n",
       "    </tr>\n",
       "    <tr>\n",
       "      <th>treatment of coal gas, in power plant</th>\n",
       "      <td>0.0028</td>\n",
       "    </tr>\n",
       "    <tr>\n",
       "      <th>electricity production, wind, 1-3MW turbine, offshore</th>\n",
       "      <td>0.0024</td>\n",
       "    </tr>\n",
       "    <tr>\n",
       "      <th>electricity, high voltage, import from LU</th>\n",
       "      <td>0.0018</td>\n",
       "    </tr>\n",
       "    <tr>\n",
       "      <th>heat and power co-generation, natural gas, combined cycle power plant, 400MW electrical</th>\n",
       "      <td>0.0014</td>\n",
       "    </tr>\n",
       "    <tr>\n",
       "      <th>electricity, high voltage, import from NL</th>\n",
       "      <td>0.0012</td>\n",
       "    </tr>\n",
       "    <tr>\n",
       "      <th>electricity, high voltage, import from PL</th>\n",
       "      <td>0.0003</td>\n",
       "    </tr>\n",
       "    <tr>\n",
       "      <th>electricity production, deep geothermal</th>\n",
       "      <td>0.0000</td>\n",
       "    </tr>\n",
       "    <tr>\n",
       "      <th>electricity production, natural gas, 10MW</th>\n",
       "      <td>0.0000</td>\n",
       "    </tr>\n",
       "    <tr>\n",
       "      <th>Electricity, at power plant/hard coal, oxy, pipeline 200km, storage 1000m/2025</th>\n",
       "      <td>0.0000</td>\n",
       "    </tr>\n",
       "    <tr>\n",
       "      <th>Electricity, at power plant/hard coal, post, pipeline 200km, storage 1000m/2025</th>\n",
       "      <td>0.0000</td>\n",
       "    </tr>\n",
       "    <tr>\n",
       "      <th>Electricity, at power plant/hard coal, pre, pipeline 200km, storage 1000m/2025</th>\n",
       "      <td>0.0000</td>\n",
       "    </tr>\n",
       "    <tr>\n",
       "      <th>Electricity, at power plant/lignite, oxy, pipeline 200km, storage 1000m/2025</th>\n",
       "      <td>0.0000</td>\n",
       "    </tr>\n",
       "    <tr>\n",
       "      <th>Electricity, at power plant/lignite, pre, pipeline 200km, storage 1000m/2025</th>\n",
       "      <td>0.0000</td>\n",
       "    </tr>\n",
       "  </tbody>\n",
       "</table>\n",
       "</div>"
      ],
      "text/plain": [
       "                                                    percentage\n",
       "item                                                          \n",
       "electricity production, hard coal                       0.1573\n",
       "electricity production, nuclear, pressure water...      0.1226\n",
       "electricity production, lignite                         0.1196\n",
       "Electricity, at power plant/lignite, post, pipe...      0.1196\n",
       "heat and power co-generation, natural gas, conv...      0.0827\n",
       "electricity production, wind, 1-3MW turbine, on...      0.0629\n",
       "heat and power co-generation, biogas, gas engine        0.0460\n",
       "electricity production, nuclear, boiling water ...      0.0332\n",
       "electricity production, hydro, run-of-river             0.0294\n",
       "heat and power co-generation, hard coal                 0.0231\n",
       "electricity, high voltage, import from FR               0.0225\n",
       "electricity production, natural gas, combined c...      0.0224\n",
       "heat and power co-generation, wood chips, 6667 ...      0.0201\n",
       "electricity, high voltage, import from DK               0.0141\n",
       "electricity production, natural gas, convention...      0.0138\n",
       "electricity, high voltage, import from CZ               0.0125\n",
       "treatment of blast furnace gas, in power plant          0.0125\n",
       "electricity production, wind, <1MW turbine, ons...      0.0115\n",
       "electricity production, hydro, pumped storage           0.0110\n",
       "heat and power co-generation, lignite                   0.0099\n",
       "electricity, high voltage, import from CH               0.0075\n",
       "electricity production, oil                             0.0073\n",
       "electricity production, wind, >3MW turbine, ons...      0.0069\n",
       "electricity, high voltage, import from AT               0.0069\n",
       "electricity production, hydro, reservoir, non-a...      0.0056\n",
       "electricity, high voltage, import from SE               0.0049\n",
       "heat and power co-generation, oil                       0.0045\n",
       "treatment of coal gas, in power plant                   0.0028\n",
       "electricity production, wind, 1-3MW turbine, of...      0.0024\n",
       "electricity, high voltage, import from LU               0.0018\n",
       "heat and power co-generation, natural gas, comb...      0.0014\n",
       "electricity, high voltage, import from NL               0.0012\n",
       "electricity, high voltage, import from PL               0.0003\n",
       "electricity production, deep geothermal                 0.0000\n",
       "electricity production, natural gas, 10MW               0.0000\n",
       "Electricity, at power plant/hard coal, oxy, pip...      0.0000\n",
       "Electricity, at power plant/hard coal, post, pi...      0.0000\n",
       "Electricity, at power plant/hard coal, pre, pip...      0.0000\n",
       "Electricity, at power plant/lignite, oxy, pipel...      0.0000\n",
       "Electricity, at power plant/lignite, pre, pipel...      0.0000"
      ]
     },
     "execution_count": 11,
     "metadata": {},
     "output_type": "execute_result"
    }
   ],
   "source": [
    "de_fm.sorted_percentages"
   ]
  },
  {
   "cell_type": "markdown",
   "metadata": {},
   "source": [
    "### Step 5. Write our new database to Brightway2\n",
    "\n",
    "The FuturaLoader class has a built in method to write your new database to Brightway2\n",
    "\n",
    "By default is uses the `base_project` and `output_database` set in the recipe, but you can change this by adding `project` and/or `database` arguments to the function call"
   ]
  },
  {
   "cell_type": "code",
   "execution_count": 12,
   "metadata": {},
   "outputs": [
    {
     "name": "stdout",
     "output_type": "stream",
     "text": [
      "Deleting existing database ecoinvent_plus_CCS\n",
      "Vacuuming database \n",
      "15807 datasets\n",
      "547337 exchanges\n",
      "0 unlinked exchanges\n",
      "  \n"
     ]
    },
    {
     "name": "stderr",
     "output_type": "stream",
     "text": [
      "Writing activities to SQLite3 database:\n",
      "0% [##############################] 100% | ETA: 00:00:00\n",
      "Total time elapsed: 00:01:47\n"
     ]
    },
    {
     "name": "stdout",
     "output_type": "stream",
     "text": [
      "Title: Writing activities to SQLite3 database:\n",
      "  Started: 11/22/2019 15:18:44\n",
      "  Finished: 11/22/2019 15:20:32\n",
      "  Total time elapsed: 00:01:47\n",
      "  CPU %: 60.30\n",
      "  Memory %: 18.96\n",
      "Created database: ecoinvent_plus_CCS\n"
     ]
    }
   ],
   "source": [
    "f.write_database()"
   ]
  },
  {
   "cell_type": "markdown",
   "metadata": {},
   "source": [
    "### Step 6. Check out our new database in Brightway\n",
    "Lets run a quick LCA to see what's happened\n",
    "\n",
    "*Note if you'll have to use the correct names for your projects and databases to run these cells*"
   ]
  },
  {
   "cell_type": "code",
   "execution_count": 14,
   "metadata": {},
   "outputs": [],
   "source": [
    "from brightway2 import *"
   ]
  },
  {
   "cell_type": "code",
   "execution_count": 27,
   "metadata": {},
   "outputs": [],
   "source": [
    "projects.set_current('Prospective_LCA_1')\n",
    "original_ecoinvent = Database('ecoinvent')\n",
    "new_ecoinvent = Database('ecoinvent_plus_CCS')\n",
    "m = ('IPCC 2013', 'climate change', 'GTP 100a')"
   ]
  },
  {
   "cell_type": "markdown",
   "metadata": {},
   "source": [
    "First lets look at UK high voltage electricity"
   ]
  },
  {
   "cell_type": "code",
   "execution_count": 45,
   "metadata": {},
   "outputs": [],
   "source": [
    "original_gb_electricity = original_ecoinvent.search('market electricity high voltage GB')[0]\n",
    "new_gb_electricity = new_ecoinvent.search('market electricity high voltage GB')[0]\n",
    "\n",
    "original_lca = LCA({original_gb_electricity:1}, m)\n",
    "original_lca.lci()\n",
    "original_lca.lcia()\n",
    "\n",
    "new_lca = LCA({new_gb_electricity:1}, m)\n",
    "new_lca.lci()\n",
    "new_lca.lcia()"
   ]
  },
  {
   "cell_type": "code",
   "execution_count": 44,
   "metadata": {},
   "outputs": [
    {
     "name": "stdout",
     "output_type": "stream",
     "text": [
      "UK grid electricity - original = 0.566 kg CO2-eq/kWh\n",
      "UK grid electricity - with CCS = 0.402 kg CO2-eq/kWh\n"
     ]
    }
   ],
   "source": [
    "print(\"UK grid electricity - original = {} kg CO2-eq/kWh\".format(round(original_lca.score, 3)))\n",
    "print(\"UK grid electricity - with CCS = {} kg CO2-eq/kWh\".format(round(new_lca.score, 3)))"
   ]
  },
  {
   "cell_type": "markdown",
   "metadata": {},
   "source": [
    "Yep, that's changed\n",
    "\n",
    "How about Germany?"
   ]
  },
  {
   "cell_type": "code",
   "execution_count": 46,
   "metadata": {},
   "outputs": [],
   "source": [
    "original_de_electricity = original_ecoinvent.search('market electricity high voltage DE')[0]\n",
    "new_de_electricity = new_ecoinvent.search('market electricity high voltage DE')[0]\n",
    "\n",
    "original_de_lca = LCA({original_de_electricity:1}, m)\n",
    "original_de_lca.lci()\n",
    "original_de_lca.lcia()\n",
    "\n",
    "new_de_lca = LCA({new_de_electricity:1}, m)\n",
    "new_de_lca.lci()\n",
    "new_de_lca.lcia()"
   ]
  },
  {
   "cell_type": "code",
   "execution_count": 47,
   "metadata": {},
   "outputs": [
    {
     "name": "stdout",
     "output_type": "stream",
     "text": [
      "Germany grid electricity - original = 0.631 kg CO2-eq/kWh\n",
      "Germany grid electricity - with CCS = 0.498 kg CO2-eq/kWh\n"
     ]
    }
   ],
   "source": [
    "print(\"Germany grid electricity - original = {} kg CO2-eq/kWh\".format(round(original_de_lca.score, 3)))\n",
    "print(\"Germany grid electricity - with CCS = {} kg CO2-eq/kWh\".format(round(new_de_lca.score, 3)))"
   ]
  },
  {
   "cell_type": "markdown",
   "metadata": {},
   "source": [
    "Alright, but lets check that it's propagating through the database too by looking at something produced in Germany using electricity as an input"
   ]
  },
  {
   "cell_type": "code",
   "execution_count": 65,
   "metadata": {},
   "outputs": [
    {
     "name": "stdout",
     "output_type": "stream",
     "text": [
      "Excluding 76 filtered results\n",
      "Excluding 76 filtered results\n"
     ]
    }
   ],
   "source": [
    "original_silicon = original_ecoinvent.search(\"silicon production\", filter={'location':'DE'})[0]\n",
    "new_silicon = new_ecoinvent.search(\"silicon production\", filter={'location':'DE'})[0]\n",
    "\n",
    "original_silicon_lca = LCA({original_silicon:1}, m)\n",
    "original_silicon_lca.lci()\n",
    "original_silicon_lca.lcia()\n",
    "\n",
    "new_silicon_lca = LCA({new_silicon:1}, m)\n",
    "new_silicon_lca.lci()\n",
    "new_silicon_lca.lcia()"
   ]
  },
  {
   "cell_type": "code",
   "execution_count": 69,
   "metadata": {},
   "outputs": [
    {
     "name": "stdout",
     "output_type": "stream",
     "text": [
      "German silicon production - original = 15.12 kg CO2-eq/kg\n",
      "German silicon production - with CCS = 12.63 kg CO2-eq/kg\n"
     ]
    }
   ],
   "source": [
    "print(\"German silicon production - original = {} kg CO2-eq/kg\".format(round(original_silicon_lca.score, 2)))\n",
    "print(\"German silicon production - with CCS = {} kg CO2-eq/kg\".format(round(new_silicon_lca.score, 2)))"
   ]
  },
  {
   "cell_type": "markdown",
   "metadata": {},
   "source": [
    "Alright! It's worked"
   ]
  }
 ],
 "metadata": {
  "kernelspec": {
   "display_name": "Python 3",
   "language": "python",
   "name": "python3"
  },
  "language_info": {
   "codemirror_mode": {
    "name": "ipython",
    "version": 3
   },
   "file_extension": ".py",
   "mimetype": "text/x-python",
   "name": "python",
   "nbconvert_exporter": "python",
   "pygments_lexer": "ipython3",
   "version": "3.7.5"
  }
 },
 "nbformat": 4,
 "nbformat_minor": 4
}
